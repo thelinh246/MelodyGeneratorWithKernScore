{
 "cells": [
  {
   "cell_type": "markdown",
   "metadata": {},
   "source": [
    "Import Library"
   ]
  },
  {
   "cell_type": "code",
   "execution_count": null,
   "metadata": {},
   "outputs": [],
   "source": [
    "import os\n",
    "import json\n",
    "import music21 as m21\n",
    "import numpy as np\n",
    "import tensorflow.keras as keras\n",
    "import matplotlib.pyplot as plt"
   ]
  },
  {
   "cell_type": "code",
   "execution_count": null,
   "metadata": {},
   "outputs": [],
   "source": [
    "KERN_DATASET_PATH = \"deutschl/erk\"\n",
    "SAVE_DIR = \"dataset\"\n",
    "SINGLE_FILE_DATASET = \"file_dataset\"\n",
    "MAPPING_PATH = \"mapping.json\"\n",
    "SEQUENCE_LENGTH = 64"
   ]
  },
  {
   "cell_type": "code",
   "execution_count": null,
   "metadata": {},
   "outputs": [],
   "source": [
    "ACCEPTABLE_DURATIONS = [\n",
    "    0.25, # 16th note\n",
    "    0.5, # 8th note\n",
    "    0.75,\n",
    "    1.0, # quarter note\n",
    "    1.5,\n",
    "    2, # half note\n",
    "    3,\n",
    "    4 # whole note\n",
    "]"
   ]
  },
  {
   "cell_type": "markdown",
   "metadata": {},
   "source": [
    "Preprocess"
   ]
  },
  {
   "cell_type": "code",
   "execution_count": null,
   "metadata": {},
   "outputs": [],
   "source": [
    "def load_songs_in_kern(dataset_path):\n",
    "\n",
    "    songs = []\n",
    "\n",
    "    # go through all the files in dataset and load them with music21\n",
    "    for path, subdirs, files in os.walk(KERN_DATASET_PATH):\n",
    "        for file in files:\n",
    "\n",
    "            # consider only kern files\n",
    "            if file[-3:] == \"krn\":\n",
    "                song = m21.converter.parse(os.path.join(path, file))\n",
    "                songs.append(song)\n",
    "    return songs"
   ]
  },
  {
   "cell_type": "code",
   "execution_count": null,
   "metadata": {},
   "outputs": [],
   "source": [
    "def has_acceptable_durations(song, acceptable_durations):\n",
    "\n",
    "    for note in song.flat.notesAndRests:\n",
    "        if note.duration.quarterLength not in acceptable_durations:\n",
    "            return False\n",
    "    return True"
   ]
  },
  {
   "cell_type": "code",
   "execution_count": null,
   "metadata": {},
   "outputs": [],
   "source": [
    "def transpose(song):\n",
    "\n",
    "    # get key from the song\n",
    "    parts = song.getElementsByClass(m21.stream.Part)\n",
    "    measures_part0 = parts[0].getElementsByClass(m21.stream.Measure)\n",
    "    key = measures_part0[0][4]\n",
    "\n",
    "    # estimate key using music21\n",
    "    if not isinstance(key, m21.key.Key):\n",
    "        key = song.analyze(\"key\")\n",
    "\n",
    "    # get interval for transposition. E.g., Bmaj -> Cmaj\n",
    "    if key.mode == \"major\":\n",
    "        interval = m21.interval.Interval(key.tonic, m21.pitch.Pitch(\"C\"))\n",
    "    elif key.mode == \"minor\":\n",
    "        interval = m21.interval.Interval(key.tonic, m21.pitch.Pitch(\"A\"))\n",
    "\n",
    "    # transpose song by calculated interval\n",
    "    tranposed_song = song.transpose(interval)\n",
    "    return tranposed_song"
   ]
  },
  {
   "cell_type": "code",
   "execution_count": null,
   "metadata": {},
   "outputs": [],
   "source": [
    "def encode_song(song, time_step=0.25):\n",
    "\n",
    "    encoded_song = []\n",
    "\n",
    "    for event in song.flat.notesAndRests:\n",
    "\n",
    "        # handle notes\n",
    "        if isinstance(event, m21.note.Note):\n",
    "            symbol = event.pitch.midi # 60\n",
    "        # handle rests\n",
    "        elif isinstance(event, m21.note.Rest):\n",
    "            symbol = \"r\"\n",
    "\n",
    "        # convert the note/rest into time series notation\n",
    "        steps = int(event.duration.quarterLength / time_step)\n",
    "        for step in range(steps):\n",
    "\n",
    "            # if it's the first time we see a note/rest, let's encode it. Otherwise, it means we're carrying the same\n",
    "            # symbol in a new time step\n",
    "            if step == 0:\n",
    "                encoded_song.append(symbol)\n",
    "            else:\n",
    "                encoded_song.append(\"_\")\n",
    "\n",
    "    # cast encoded song to str\n",
    "    encoded_song = \" \".join(map(str, encoded_song))\n",
    "\n",
    "    return encoded_song"
   ]
  },
  {
   "cell_type": "code",
   "execution_count": null,
   "metadata": {},
   "outputs": [],
   "source": [
    "def preprocess(dataset_path):\n",
    "\n",
    "    # load folk songs\n",
    "    print(\"Loading songs...\")\n",
    "    songs = load_songs_in_kern(dataset_path)\n",
    "    print(f\"Loaded {len(songs)} songs.\")\n",
    "\n",
    "    for i, song in enumerate(songs):\n",
    "\n",
    "        # filter out songs that have non-acceptable durations\n",
    "        if not has_acceptable_durations(song, ACCEPTABLE_DURATIONS):\n",
    "            continue\n",
    "\n",
    "        # transpose songs to Cmaj/Amin\n",
    "        song = transpose(song)\n",
    "\n",
    "        # encode songs with music time series representation\n",
    "        encoded_song = encode_song(song)\n",
    "\n",
    "        # save songs to text file\n",
    "        save_path = os.path.join(SAVE_DIR, str(i))\n",
    "        with open(save_path, \"w\") as fp:\n",
    "            fp.write(encoded_song)\n",
    "\n",
    "        if i % 10 == 0:\n",
    "            print(f\"Song {i} out of {len(songs)} processed\")"
   ]
  },
  {
   "cell_type": "code",
   "execution_count": null,
   "metadata": {},
   "outputs": [],
   "source": [
    "def load(file_path):\n",
    "    with open(file_path, \"r\") as fp:\n",
    "        song = fp.read()\n",
    "    return song"
   ]
  },
  {
   "cell_type": "code",
   "execution_count": null,
   "metadata": {},
   "outputs": [],
   "source": [
    "def create_single_file_dataset(dataset_path, file_dataset_path, sequence_length):\n",
    "\n",
    "    new_song_delimiter = \"/ \" * sequence_length\n",
    "    songs = \"\"\n",
    "\n",
    "    # load encoded songs and add delimiters\n",
    "    for path, _, files in os.walk(dataset_path):\n",
    "        for file in files:\n",
    "            file_path = os.path.join(path, file)\n",
    "            song = load(file_path)\n",
    "            songs = songs + song + \" \" + new_song_delimiter\n",
    "\n",
    "    # remove empty space from last character of string\n",
    "    songs = songs[:-1]\n",
    "\n",
    "    # save string that contains all the dataset\n",
    "    with open(file_dataset_path, \"w\") as fp:\n",
    "        fp.write(songs)\n",
    "\n",
    "    return songs"
   ]
  },
  {
   "cell_type": "code",
   "execution_count": null,
   "metadata": {},
   "outputs": [],
   "source": [
    "def create_mapping(songs, mapping_path):\n",
    "\n",
    "    mappings = {}\n",
    "\n",
    "    # identify the vocabulary\n",
    "    songs = songs.split()\n",
    "    vocabulary = list(set(songs))\n",
    "\n",
    "    # create mappings\n",
    "    for i, symbol in enumerate(vocabulary):\n",
    "        mappings[symbol] = i\n",
    "\n",
    "    # save voabulary to a json file\n",
    "    with open(mapping_path, \"w\") as fp:\n",
    "        json.dump(mappings, fp, indent=4)"
   ]
  },
  {
   "cell_type": "code",
   "execution_count": null,
   "metadata": {},
   "outputs": [],
   "source": [
    "def convert_songs_to_int(songs):\n",
    "    int_songs = []\n",
    "\n",
    "    # load mappings\n",
    "    with open(MAPPING_PATH, \"r\") as fp:\n",
    "        mappings = json.load(fp)\n",
    "\n",
    "    # transform songs string to list\n",
    "    songs = songs.split()\n",
    "\n",
    "    # map songs to int\n",
    "    for symbol in songs:\n",
    "        int_songs.append(mappings[symbol])\n",
    "\n",
    "    return int_songs"
   ]
  },
  {
   "cell_type": "code",
   "execution_count": null,
   "metadata": {},
   "outputs": [],
   "source": [
    "def generate_training_sequences(sequence_length):\n",
    "\n",
    "    # load songs and map them to int\n",
    "    songs = load(SINGLE_FILE_DATASET)\n",
    "    int_songs = convert_songs_to_int(songs)\n",
    "\n",
    "    inputs = []\n",
    "    targets = []\n",
    "\n",
    "    # generate the training sequences\n",
    "    num_sequences = len(int_songs) - sequence_length\n",
    "    for i in range(num_sequences):\n",
    "        inputs.append(int_songs[i:i+sequence_length])\n",
    "        targets.append(int_songs[i+sequence_length])\n",
    "\n",
    "    # one-hot encode the sequences\n",
    "    vocabulary_size = len(set(int_songs))\n",
    "    # inputs size: (# of sequences, sequence length, vocabulary size)\n",
    "    inputs = keras.utils.to_categorical(inputs, num_classes=vocabulary_size)\n",
    "    targets = np.array(targets)\n",
    "\n",
    "    print(f\"There are {len(inputs)} sequences.\")\n",
    "\n",
    "    return inputs, targets"
   ]
  },
  {
   "cell_type": "code",
   "execution_count": null,
   "metadata": {},
   "outputs": [],
   "source": [
    "preprocess(KERN_DATASET_PATH)\n",
    "songs = create_single_file_dataset(SAVE_DIR, SINGLE_FILE_DATASET, SEQUENCE_LENGTH)\n",
    "create_mapping(songs, MAPPING_PATH)"
   ]
  },
  {
   "cell_type": "markdown",
   "metadata": {},
   "source": [
    "Training"
   ]
  },
  {
   "cell_type": "code",
   "execution_count": null,
   "metadata": {},
   "outputs": [],
   "source": [
    "OUTPUT_UNITS = 38\n",
    "NUM_UNITS = [256]\n",
    "LOSS = \"sparse_categorical_crossentropy\"\n",
    "LEARNING_RATE = 0.001\n",
    "EPOCHS = 90\n",
    "BATCH_SIZE = 64\n",
    "SAVE_MODEL_PATH = \"model_LSTM.keras\""
   ]
  },
  {
   "cell_type": "code",
   "execution_count": null,
   "metadata": {},
   "outputs": [],
   "source": [
    "def build_model(output_units, num_units, loss, learning_rate):\n",
    "    \"\"\"Builds and compiles model\"\"\"\n",
    "    \n",
    "    # create the model architecture\n",
    "    input = keras.layers.Input(shape=(None, output_units))\n",
    "    \n",
    "    # Corrected LSTM layer configuration - removed time_major parameter\n",
    "    x = keras.layers.LSTM(\n",
    "        units=num_units[0],\n",
    "        return_sequences=False,\n",
    "        stateful=False,\n",
    "        dropout=0.2  # Moving dropout directly into LSTM for better performance\n",
    "    )(input)\n",
    "    \n",
    "    # Removed separate dropout layer since it's integrated in LSTM\n",
    "    output = keras.layers.Dense(output_units, activation=\"softmax\")(x)\n",
    "    \n",
    "    model = keras.Model(input, output)\n",
    "\n",
    "    # Using standard Adam optimizer instead of legacy\n",
    "    optimizer = keras.optimizers.Adam(learning_rate=learning_rate)\n",
    "    \n",
    "    model.compile(\n",
    "        loss=loss,\n",
    "        optimizer=optimizer,\n",
    "        metrics=[\"accuracy\"]\n",
    "        # Removed run_eagerly as it's not needed in production and slows down training\n",
    "    )\n",
    "\n",
    "    model.summary()\n",
    "    return model"
   ]
  },
  {
   "cell_type": "code",
   "execution_count": null,
   "metadata": {},
   "outputs": [],
   "source": [
    "def train(output_units=OUTPUT_UNITS, num_units=NUM_UNITS, loss=LOSS, learning_rate=LEARNING_RATE):\n",
    "    \"\"\"Train and save TF model.\"\"\"\n",
    "    \n",
    "    # generate the training sequences\n",
    "    inputs, targets = generate_training_sequences(SEQUENCE_LENGTH)\n",
    "\n",
    "    # build the network\n",
    "    model = build_model(output_units, num_units, loss, learning_rate)\n",
    "    model.summary()\n",
    "\n",
    "    # Modified callbacks for better training monitoring\n",
    "    callbacks = [\n",
    "        keras.callbacks.ModelCheckpoint(\n",
    "            SAVE_MODEL_PATH,\n",
    "            monitor='val_accuracy',  # Changed to monitor validation accuracy\n",
    "            save_best_only=True,\n",
    "            mode='max',\n",
    "            verbose=1\n",
    "        ),\n",
    "        keras.callbacks.EarlyStopping(\n",
    "            monitor='val_loss',  # Changed to monitor validation loss\n",
    "            patience=5,\n",
    "            restore_best_weights=True,\n",
    "            verbose=1\n",
    "        ),\n",
    "        # Added learning rate reduction on plateau\n",
    "        keras.callbacks.ReduceLROnPlateau(\n",
    "            monitor='val_loss',\n",
    "            factor=0.5,\n",
    "            patience=3,\n",
    "            verbose=1,\n",
    "            min_lr=1e-6\n",
    "        )\n",
    "    ]\n",
    "\n",
    "    # train the model\n",
    "    history = model.fit(\n",
    "        inputs, \n",
    "        targets,\n",
    "        epochs=EPOCHS,\n",
    "        batch_size=BATCH_SIZE,\n",
    "        callbacks=callbacks,\n",
    "        validation_split=0.2,\n",
    "        verbose=1\n",
    "    )\n",
    "\n",
    "    # save the final model\n",
    "    model.save(SAVE_MODEL_PATH, save_format='keras')\n",
    "    return history"
   ]
  },
  {
   "cell_type": "code",
   "execution_count": null,
   "metadata": {},
   "outputs": [],
   "source": [
    "history = train()"
   ]
  },
  {
   "cell_type": "code",
   "execution_count": null,
   "metadata": {},
   "outputs": [],
   "source": [
    "def plot_training_history(history):\n",
    "    \"\"\"Plots the training and validation loss and accuracy\"\"\"\n",
    "    \n",
    "    fig, (ax1, ax2) = plt.subplots(1, 2, figsize=(12, 4))\n",
    "    \n",
    "    # Plot training and validation loss\n",
    "    ax1.plot(history.history['loss'], label='Training Loss')\n",
    "    ax1.plot(history.history['val_loss'], label='Validation Loss')\n",
    "    ax1.set_title('Training and Validation Loss')\n",
    "    ax1.set_xlabel('Epoch')\n",
    "    ax1.set_ylabel('Loss')\n",
    "    ax1.legend()\n",
    "    \n",
    "    # Plot training and validation accuracy\n",
    "    ax2.plot(history.history['accuracy'], label='Training Accuracy')\n",
    "    ax2.plot(history.history['val_accuracy'], label='Validation Accuracy')\n",
    "    ax2.set_title('Training and Validation Accuracy')\n",
    "    ax2.set_xlabel('Epoch')\n",
    "    ax2.set_ylabel('Accuracy')\n",
    "    ax2.legend()\n",
    "    \n",
    "    plt.tight_layout()\n",
    "    plt.show()"
   ]
  },
  {
   "cell_type": "code",
   "execution_count": null,
   "metadata": {},
   "outputs": [],
   "source": [
    "plot_training_history(history)"
   ]
  }
 ],
 "metadata": {
  "kernelspec": {
   "display_name": "base",
   "language": "python",
   "name": "python3"
  },
  "language_info": {
   "name": "python",
   "version": "3.12.4"
  }
 },
 "nbformat": 4,
 "nbformat_minor": 2
}
